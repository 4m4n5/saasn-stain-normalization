{
 "cells": [
  {
   "cell_type": "code",
   "execution_count": 38,
   "metadata": {},
   "outputs": [],
   "source": [
    "import PIL\n",
    "from PIL import Image\n",
    "import cv2\n",
    "import numpy as np\n",
    "import os\n",
    "import matplotlib.pyplot as plt\n",
    "import matplotlib.image as mpimg\n",
    "from tqdm import tqdm"
   ]
  },
  {
   "cell_type": "code",
   "execution_count": 43,
   "metadata": {},
   "outputs": [],
   "source": [
    "source_image_path = '/project/DSone/as3ek/data/ganstain/colorization/source_images/'\n",
    "trainA_image_path = '/project/DSone/as3ek/data/ganstain/colorization/trainA/'\n",
    "trainB_image_path = '/project/DSone/as3ek/data/ganstain/colorization/trainB/'"
   ]
  },
  {
   "cell_type": "code",
   "execution_count": 44,
   "metadata": {},
   "outputs": [],
   "source": [
    "source_images = os.listdir(source_image_path)"
   ]
  },
  {
   "cell_type": "code",
   "execution_count": 45,
   "metadata": {},
   "outputs": [
    {
     "name": "stderr",
     "output_type": "stream",
     "text": [
      "9294it [05:00, 30.97it/s]\n"
     ]
    }
   ],
   "source": [
    "for i, image in tqdm(enumerate(source_images)):\n",
    "    img = Image.open(source_image_path + image)\n",
    "    \n",
    "    img.save(trainB_image_path + image)\n",
    "    \n",
    "    gray_img = np.array(img.convert('L'))\n",
    "    gray_img = Image.fromarray(np.stack((gray_img,)*3, axis=-1))\n",
    "    gray_img.save(trainA_image_path + image)"
   ]
  },
  {
   "cell_type": "code",
   "execution_count": 50,
   "metadata": {},
   "outputs": [],
   "source": [
    "test_image_path = '/project/DSone/as3ek/data/ganstain/colorization/source_images/test/'\n",
    "testA_image_path = '/project/DSone/as3ek/data/ganstain/colorization/testA/'\n",
    "testB_image_path = '/project/DSone/as3ek/data/ganstain/colorization/testB/'"
   ]
  },
  {
   "cell_type": "code",
   "execution_count": 51,
   "metadata": {},
   "outputs": [],
   "source": [
    "source_images = os.listdir(test_image_path)"
   ]
  },
  {
   "cell_type": "code",
   "execution_count": 52,
   "metadata": {},
   "outputs": [
    {
     "name": "stderr",
     "output_type": "stream",
     "text": [
      "494it [00:13, 35.86it/s]\n"
     ]
    }
   ],
   "source": [
    "for i, image in tqdm(enumerate(source_images)):\n",
    "    img = Image.open(test_image_path + image)\n",
    "    \n",
    "    img.save(testB_image_path + image)\n",
    "    \n",
    "    gray_img = np.array(img.convert('L'))\n",
    "    gray_img = Image.fromarray(np.stack((gray_img,)*3, axis=-1))\n",
    "    gray_img.save(testA_image_path + image)"
   ]
  },
  {
   "cell_type": "code",
   "execution_count": null,
   "metadata": {},
   "outputs": [],
   "source": []
  }
 ],
 "metadata": {
  "kernelspec": {
   "display_name": "Python 3",
   "language": "python",
   "name": "python3"
  },
  "language_info": {
   "codemirror_mode": {
    "name": "ipython",
    "version": 3
   },
   "file_extension": ".py",
   "mimetype": "text/x-python",
   "name": "python",
   "nbconvert_exporter": "python",
   "pygments_lexer": "ipython3",
   "version": "3.6.6"
  }
 },
 "nbformat": 4,
 "nbformat_minor": 2
}
