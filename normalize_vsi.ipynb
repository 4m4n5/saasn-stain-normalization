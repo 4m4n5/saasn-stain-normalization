{
 "cells": [
  {
   "cell_type": "code",
   "execution_count": 1,
   "metadata": {},
   "outputs": [],
   "source": [
    "import javabridge\n",
    "import bioformats\n",
    "import tqdm\n",
    "import numpy as np\n",
    "import tifffile as tf\n",
    "import math\n",
    "\n",
    "import os\n",
    "import glob\n",
    "import re\n",
    "from pandas import DataFrame, Series\n",
    "from PIL import Image\n",
    "import timeit\n",
    "import time\n",
    "import math\n",
    "import numpy as np\n",
    "from scipy.ndimage.morphology import binary_fill_holes\n",
    "from skimage.color import rgb2gray\n",
    "from skimage.feature import canny\n",
    "from skimage.morphology import binary_closing, binary_dilation, disk\n",
    "\n",
    "import torch\n",
    "from torch import nn\n",
    "from torch.autograd import Variable\n",
    "import torchvision\n",
    "import torchvision.datasets as dsets\n",
    "import torchvision.transforms as transforms\n",
    "import utils\n",
    "from arch import define_Gen, define_Dis\n",
    "import kornia\n",
    "import pandas as pd\n",
    "import warnings\n",
    "\n",
    "import torch.nn.functional as F\n",
    "import numpy as np\n",
    "import json\n",
    "import matplotlib.pyplot as plt\n",
    "import matplotlib.cm as cm\n",
    "import argparse\n",
    "from scipy.misc import imread, imresize\n",
    "from PIL import Image\n",
    "import math\n",
    "\n",
    "from sklearn.feature_extraction.image import reconstruct_from_patches_2d as reconstruct"
   ]
  },
  {
   "cell_type": "code",
   "execution_count": 2,
   "metadata": {},
   "outputs": [],
   "source": [
    "warnings.filterwarnings('ignore')"
   ]
  },
  {
   "cell_type": "code",
   "execution_count": 3,
   "metadata": {},
   "outputs": [],
   "source": [
    "class Arguments(object):\n",
    "    def __init__(self, dictionary):\n",
    "        \"\"\"Constructor\"\"\"\n",
    "        for key in dictionary:\n",
    "            setattr(self, key, dictionary[key])"
   ]
  },
  {
   "cell_type": "code",
   "execution_count": 4,
   "metadata": {},
   "outputs": [],
   "source": [
    "args = {\n",
    "    'epochs': 100,\n",
    "    'decay_epoch': 60,\n",
    "    'batch_size': 16,\n",
    "    'lr': 0.0002,\n",
    "    'load_height': 128,\n",
    "    'load_width': 128,\n",
    "    'gpu_ids': '0',\n",
    "    'crop_height': 128,\n",
    "    'crop_width': 128,\n",
    "    'alpha': 6, # Cyc loss\n",
    "    'beta': 5, # Scyc loss\n",
    "    'gamma': 2, # Dssim loss \n",
    "    'delta': 0.1, # Identity\n",
    "    'training': True,\n",
    "    'testing': True,\n",
    "    'results_dir': '/project/DSone/as3ek/data/ganstain/1000_SEEM_Cinn/results/',\n",
    "    'dataset_dir': '/project/DSone/as3ek/data/ganstain/1000_SEEM_Cinn/',\n",
    "    'checkpoint_dir': '/project/DSone/as3ek/data/ganstain/1000_SEEM_Cinn/checkpoint/',\n",
    "    'norm': 'batch',\n",
    "    'use_dropout': False,\n",
    "    'ngf': 64,\n",
    "    'ndf': 64,\n",
    "    'gen_net': 'unet_128',\n",
    "    'dis_net': 'n_layers',\n",
    "    'self_attn': True,\n",
    "    'spectral': True,\n",
    "    'log_freq': 50,\n",
    "    'custom_tag': 'zif_cinn',\n",
    "    'gen_samples': True,\n",
    "    'specific_samples': False\n",
    "}\n",
    "\n",
    "args = Arguments(args)\n",
    "\n",
    "tag1 = 'noattn'\n",
    "if args.self_attn:\n",
    "    tag1 = 'attn'\n",
    "\n",
    "tag2 = 'nospec'\n",
    "if args.spectral:\n",
    "    tag2 = 'spectral'\n",
    "\n",
    "# Generate paths for checkpoint and results\n",
    "args.identifier = str(args.gen_net) + '_' + str(args.dis_net) + '_' \\\n",
    "+ str(args.lr) + '_' + args.norm + '_' + tag1 + '_' + tag2 + '_' + str(args.batch_size) + '_' \\\n",
    "+ str(args.load_height) + '_coefs_' + str(args.alpha) + '_' + str(args.beta) + '_' + str(args.gamma) + '_'\\\n",
    "+ str(args.delta) + '_' + args.custom_tag\n",
    "\n",
    "args.checkpoint_path = args.checkpoint_dir + args.identifier\n",
    "args.results_path = args.results_dir + args.identifier\n",
    "\n",
    "args.gpu_ids = []\n",
    "for i in range(torch.cuda.device_count()):\n",
    "    args.gpu_ids.append(i)\n",
    "    \n",
    "device = torch.device(\"cuda\" if torch.cuda.is_available() else \"cpu\")"
   ]
  },
  {
   "cell_type": "code",
   "execution_count": 5,
   "metadata": {},
   "outputs": [],
   "source": [
    "# Parameters\n",
    "one_direction = True # If this is false. a -> b -> a will happen. Edit code for otherwise.\n",
    "gen_name = 'Gba' # Gba to generate b given a, i.e., a -> b\n",
    "PATH = '/project/DSone/biopsy_images/SEEM_New_crops_2/'\n",
    "patch_size = 1000\n",
    "resize_to = 256\n",
    "target = '/scratch/as3ek/misc/gannorm_wsi_seem_vsi/' # for WSI\n",
    "target_path_unnorm = '/project/DSone/as3ek/data/patches/1000/un_normalized/seem_ee_vsi/' # for unnormalized patches\n",
    "target_path = '/project/DSone/as3ek/data/patches/1000/gan_normalized/seem_ee_vsi/' # for normalized patches\n",
    "thresh = 0.50\n",
    "save_WSI = True\n",
    "overlap = 0.5 # %-age area"
   ]
  },
  {
   "cell_type": "code",
   "execution_count": 6,
   "metadata": {},
   "outputs": [
    {
     "name": "stdout",
     "output_type": "stream",
     "text": [
      "Network initialized with weights sampled from N(0,[0.02]).\n"
     ]
    }
   ],
   "source": [
    "if one_direction:\n",
    "    G = define_Gen(input_nc=3, output_nc=3, ngf=args.ngf, netG=args.gen_net, norm=args.norm, \n",
    "                                                    use_dropout= args.use_dropout, gpu_ids=args.gpu_ids, self_attn=args.self_attn, spectral = args.spectral)\n",
    "else:\n",
    "    Gab = define_Gen(input_nc=3, output_nc=3, ngf=args.ngf, netG=args.gen_net, norm=args.norm, \n",
    "                                                        use_dropout= args.use_dropout, gpu_ids=args.gpu_ids, self_attn=args.self_attn, spectral = args.spectral)\n",
    "    Gba = define_Gen(input_nc=3, output_nc=3, ngf=args.ngf, netG=args.gen_net, norm=args.norm, \n",
    "                                                    use_dropout= args.use_dropout, gpu_ids=args.gpu_ids, self_attn=args.self_attn, spectral = args.spectral)"
   ]
  },
  {
   "cell_type": "code",
   "execution_count": 7,
   "metadata": {},
   "outputs": [
    {
     "name": "stdout",
     "output_type": "stream",
     "text": [
      " [*] Loading checkpoint from /project/DSone/as3ek/data/ganstain/1000_SEEM_Cinn/checkpoint/unet_128_n_layers_0.0002_batch_attn_spectral_16_128_coefs_6_5_2_0.1_zif_cinn/latest.ckpt succeed!\n",
      "Eval mode\n"
     ]
    }
   ],
   "source": [
    "ckpt = utils.load_checkpoint('%s/latest.ckpt' % (args.checkpoint_path))\n",
    "if one_direction:\n",
    "    G.load_state_dict(ckpt[gen_name])\n",
    "    G.eval()\n",
    "else:\n",
    "    Gab.load_state_dict(ckpt['Gab'])\n",
    "    Gba.load_state_dict(ckpt['Gba'])\n",
    "    Gab.eval()\n",
    "    Gba.eval()\n",
    "print('Eval mode')"
   ]
  },
  {
   "cell_type": "code",
   "execution_count": 8,
   "metadata": {},
   "outputs": [],
   "source": [
    "javabridge.start_vm(class_path=bioformats.JARS)"
   ]
  },
  {
   "cell_type": "code",
   "execution_count": 9,
   "metadata": {},
   "outputs": [],
   "source": [
    "def optical_density(tile):\n",
    "    tile = tile.astype(np.float64)\n",
    "    od = -np.log((tile+1)/240)\n",
    "    return od\n",
    "\n",
    "def keep_tile(tile_tuple, tile_size, tissue_threshold):\n",
    "    slide_num, tile = tile_tuple\n",
    "    if tile.shape[0:2] == (tile_size, tile_size):\n",
    "        tile_orig = tile\n",
    "        tile = rgb2gray(tile)\n",
    "        tile = 1 - tile\n",
    "        tile = canny(tile)\n",
    "        tile = binary_closing(tile, disk(10))\n",
    "        tile = binary_dilation(tile, disk(10))\n",
    "        tile = binary_fill_holes(tile)\n",
    "        percentage = tile.mean()\n",
    "        check1 = percentage >= tissue_threshold\n",
    "        tile = optical_density(tile_orig)\n",
    "        beta = 0.15\n",
    "        tile = np.min(tile, axis=2) >= beta\n",
    "        tile = binary_closing(tile, disk(2))\n",
    "        tile = binary_dilation(tile, disk(2))\n",
    "        tile = binary_fill_holes(tile)\n",
    "        percentage = tile.mean()\n",
    "        check2 = percentage >= tissue_threshold\n",
    "\n",
    "        return check1 and check2\n",
    "    else:\n",
    "        return False"
   ]
  },
  {
   "cell_type": "code",
   "execution_count": 10,
   "metadata": {},
   "outputs": [],
   "source": [
    "def get_img_paths_vsi(train_paths):\n",
    "    images = {}\n",
    "    files = glob.glob(os.path.join(train_paths, '*.vsi'))\n",
    "    for fl in files:\n",
    "        flbase = os.path.basename(fl)\n",
    "        flbase_noext = os.path.splitext(flbase)[0]\n",
    "        images[flbase_noext] = fl\n",
    "    return images"
   ]
  },
  {
   "cell_type": "code",
   "execution_count": 11,
   "metadata": {},
   "outputs": [
    {
     "name": "stdout",
     "output_type": "stream",
     "text": [
      "1/44 Complete!\n",
      "2/44 Complete!\n",
      "3/44 Complete!\n",
      "4/44 Complete!\n",
      "5/44 Complete!\n",
      "6/44 Complete!\n",
      "7/44 Complete!\n",
      "8/44 Complete!\n",
      "9/44 Complete!\n",
      "10/44 Complete!\n",
      "11/44 Complete!\n",
      "12/44 Complete!\n",
      "13/44 Complete!\n",
      "14/44 Complete!\n",
      "15/44 Complete!\n",
      "16/44 Complete!\n",
      "17/44 Complete!\n",
      "18/44 Complete!\n",
      "19/44 Complete!\n",
      "20/44 Complete!\n",
      "21/44 Complete!\n",
      "22/44 Complete!\n",
      "23/44 Complete!\n",
      "24/44 Complete!\n",
      "25/44 Complete!\n",
      "26/44 Complete!\n",
      "27/44 Complete!\n",
      "28/44 Complete!\n",
      "29/44 Complete!\n",
      "30/44 Complete!\n",
      "31/44 Complete!\n",
      "32/44 Complete!\n",
      "33/44 Complete!\n",
      "34/44 Complete!\n",
      "35/44 Complete!\n",
      "36/44 Complete!\n",
      "37/44 Complete!\n",
      "38/44 Complete!\n",
      "39/44 Complete!\n",
      "40/44 Complete!\n",
      "41/44 Complete!\n",
      "42/44 Complete!\n",
      "43/44 Complete!\n",
      "44/44 Complete!\n"
     ]
    }
   ],
   "source": [
    "transform = transforms.Compose([\n",
    "    transforms.Normalize(mean=[0.5, 0.5, 0.5], std=[0.5, 0.5, 0.5])\n",
    "])\n",
    "\n",
    "files = list(get_img_paths_vsi(PATH).values())\n",
    "num_files = len(files)\n",
    "\n",
    "for i, file in enumerate(files):\n",
    "    image = bioformats.ImageReader(file)\n",
    "    rescale = resize_to / patch_size\n",
    "    height, width, c = np.array(image.read(rescale=False)).shape\n",
    "    new_dims = int(rescale * (width // resize_to) * resize_to) , \\\n",
    "    int(rescale * (height // resize_to) * resize_to)\n",
    "    \n",
    "    file = file.split('/')[-1]\n",
    "    \n",
    "    # Initialize x and y coord\n",
    "    x_cord = 0\n",
    "    y_cord = 0\n",
    "    \n",
    "    if save_WSI:\n",
    "        joined_image = Image.new('RGB', (new_dims))\n",
    "    \n",
    "    while x_cord + patch_size < width - 0:\n",
    "        while y_cord + patch_size < height - 0:\n",
    "            patch = Image.fromarray(np.array(image.read(rescale=False, XYWH=(x_cord, y_cord, patch_size, patch_size))))\n",
    "        \n",
    "            patch = patch.convert('RGB')\n",
    "            patch = imresize(patch, (resize_to, resize_to))\n",
    "            \n",
    "            # Check if we should keep patch\n",
    "            if keep_tile((0, patch), resize_to, thresh) == False:\n",
    "                y_cord = int(y_cord + (1 - overlap) * patch_size)\n",
    "                continue\n",
    "                \n",
    "            patch = patch.transpose(2, 0, 1)\n",
    "            patch = patch / 255.\n",
    "            patch = torch.FloatTensor(patch).to(device)\n",
    "            patch = transform(patch)\n",
    "            patch = patch.unsqueeze(0)\n",
    "            \n",
    "            # Save unnormalized patch\n",
    "            target_folder = target_path_unnorm\n",
    "            if not os.path.exists(target_folder):\n",
    "                os.mkdir(target_folder)\n",
    "            filename = target_folder + file.split('.')[0] + '__' + str(x_cord) + '_' + str(y_cord) + '.jpg'\n",
    "            torchvision.utils.save_image((patch + 1)/2, filename)\n",
    "            \n",
    "            if one_direction:\n",
    "                out = G(patch)\n",
    "            else:\n",
    "                out = Gba(patch)\n",
    "                out = Gab(out)\n",
    "            \n",
    "            # Save normalized patch\n",
    "            target_folder = target_path\n",
    "            if not os.path.exists(target_folder):\n",
    "                os.mkdir(target_folder)\n",
    "            filename = target_folder + file.split('.')[0] + '__' + str(x_cord) + '_' + str(y_cord) + '.jpg'\n",
    "            torchvision.utils.save_image((out + 1)/2, filename)\n",
    "            \n",
    "            if save_WSI:\n",
    "                out = (out + 1) / 2\n",
    "                # this converts it from GPU to CPU and selects first image\n",
    "                img = out.detach().cpu().numpy()[0]\n",
    "                #convert image back to Height,Width,Channels\n",
    "                img = np.transpose(img, (1,2,0))\n",
    "                patch_join = Image.fromarray(np.uint8(img*255))\n",
    "                joined_image.paste(patch_join, (int(x_cord*rescale), int(y_cord*rescale)))\n",
    "            \n",
    "            # Taking care of overlap\n",
    "            y_cord = int(y_cord + (1 - overlap) * patch_size)\n",
    "        \n",
    "        # Taking care of overlap\n",
    "        x_cord = int(x_cord + (1 - overlap) * patch_size)\n",
    "        y_cord = 0\n",
    "    \n",
    "    print(str(i + 1) + '/' + str(num_files) + ' Complete!')\n",
    "    if save_WSI:\n",
    "        if not os.path.exists(target):\n",
    "            os.makedirs(target)\n",
    "        joined_image.save(target + file.split('.')[0] + '.png')"
   ]
  },
  {
   "cell_type": "code",
   "execution_count": 20,
   "metadata": {},
   "outputs": [
    {
     "ename": "JavaException",
     "evalue": "Invalid T index: 1/1",
     "output_type": "error",
     "traceback": [
      "\u001b[0;31m---------------------------------------------------------------------------\u001b[0m",
      "\u001b[0;31mJavaException\u001b[0m                             Traceback (most recent call last)",
      "\u001b[0;32m<ipython-input-20-7004cdef0d70>\u001b[0m in \u001b[0;36m<module>\u001b[0;34m()\u001b[0m\n\u001b[0;32m----> 1\u001b[0;31m \u001b[0mImage\u001b[0m\u001b[0;34m.\u001b[0m\u001b[0mfromarray\u001b[0m\u001b[0;34m(\u001b[0m\u001b[0mnp\u001b[0m\u001b[0;34m.\u001b[0m\u001b[0marray\u001b[0m\u001b[0;34m(\u001b[0m\u001b[0mimage\u001b[0m\u001b[0;34m.\u001b[0m\u001b[0mread\u001b[0m\u001b[0;34m(\u001b[0m\u001b[0mz\u001b[0m\u001b[0;34m=\u001b[0m\u001b[0;36m0\u001b[0m\u001b[0;34m,\u001b[0m \u001b[0mt\u001b[0m\u001b[0;34m=\u001b[0m\u001b[0;36m1\u001b[0m\u001b[0;34m,\u001b[0m \u001b[0mrescale\u001b[0m\u001b[0;34m=\u001b[0m\u001b[0;32mFalse\u001b[0m\u001b[0;34m,\u001b[0m \u001b[0mXYWH\u001b[0m\u001b[0;34m=\u001b[0m\u001b[0;34m(\u001b[0m\u001b[0;36m2000\u001b[0m\u001b[0;34m,\u001b[0m \u001b[0;36m4000\u001b[0m\u001b[0;34m,\u001b[0m \u001b[0mpatch_size\u001b[0m\u001b[0;34m,\u001b[0m \u001b[0mpatch_size\u001b[0m\u001b[0;34m)\u001b[0m\u001b[0;34m)\u001b[0m\u001b[0;34m)\u001b[0m\u001b[0;34m)\u001b[0m\u001b[0;34m\u001b[0m\u001b[0m\n\u001b[0m",
      "\u001b[0;32m~/.local/lib/python3.6/site-packages/bioformats/formatreader.py\u001b[0m in \u001b[0;36mread\u001b[0;34m(self, c, z, t, series, index, rescale, wants_max_intensity, channel_names, XYWH)\u001b[0m\n\u001b[1;32m    832\u001b[0m                 \u001b[0mimage\u001b[0m\u001b[0;34m.\u001b[0m\u001b[0mshape\u001b[0m \u001b[0;34m=\u001b[0m \u001b[0;34m(\u001b[0m\u001b[0mheight\u001b[0m\u001b[0;34m,\u001b[0m \u001b[0mwidth\u001b[0m\u001b[0;34m)\u001b[0m\u001b[0;34m\u001b[0m\u001b[0m\n\u001b[1;32m    833\u001b[0m         \u001b[0;32melif\u001b[0m \u001b[0mself\u001b[0m\u001b[0;34m.\u001b[0m\u001b[0mrdr\u001b[0m\u001b[0;34m.\u001b[0m\u001b[0misRGB\u001b[0m\u001b[0;34m(\u001b[0m\u001b[0;34m)\u001b[0m \u001b[0;32mand\u001b[0m \u001b[0mself\u001b[0m\u001b[0;34m.\u001b[0m\u001b[0mrdr\u001b[0m\u001b[0;34m.\u001b[0m\u001b[0misInterleaved\u001b[0m\u001b[0;34m(\u001b[0m\u001b[0;34m)\u001b[0m\u001b[0;34m:\u001b[0m\u001b[0;34m\u001b[0m\u001b[0m\n\u001b[0;32m--> 834\u001b[0;31m             \u001b[0mindex\u001b[0m \u001b[0;34m=\u001b[0m \u001b[0mself\u001b[0m\u001b[0;34m.\u001b[0m\u001b[0mrdr\u001b[0m\u001b[0;34m.\u001b[0m\u001b[0mgetIndex\u001b[0m\u001b[0;34m(\u001b[0m\u001b[0mz\u001b[0m\u001b[0;34m,\u001b[0m\u001b[0;36m0\u001b[0m\u001b[0;34m,\u001b[0m\u001b[0mt\u001b[0m\u001b[0;34m)\u001b[0m\u001b[0;34m\u001b[0m\u001b[0m\n\u001b[0m\u001b[1;32m    835\u001b[0m             \u001b[0mimage\u001b[0m \u001b[0;34m=\u001b[0m \u001b[0mnp\u001b[0m\u001b[0;34m.\u001b[0m\u001b[0mfrombuffer\u001b[0m\u001b[0;34m(\u001b[0m\u001b[0mopenBytes_func\u001b[0m\u001b[0;34m(\u001b[0m\u001b[0mindex\u001b[0m\u001b[0;34m)\u001b[0m\u001b[0;34m,\u001b[0m \u001b[0mdtype\u001b[0m\u001b[0;34m)\u001b[0m\u001b[0;34m\u001b[0m\u001b[0m\n\u001b[1;32m    836\u001b[0m             \u001b[0mimage\u001b[0m\u001b[0;34m.\u001b[0m\u001b[0mshape\u001b[0m \u001b[0;34m=\u001b[0m \u001b[0;34m(\u001b[0m\u001b[0mheight\u001b[0m\u001b[0;34m,\u001b[0m \u001b[0mwidth\u001b[0m\u001b[0;34m,\u001b[0m \u001b[0mself\u001b[0m\u001b[0;34m.\u001b[0m\u001b[0mrdr\u001b[0m\u001b[0;34m.\u001b[0m\u001b[0mgetSizeC\u001b[0m\u001b[0;34m(\u001b[0m\u001b[0;34m)\u001b[0m\u001b[0;34m)\u001b[0m\u001b[0;34m\u001b[0m\u001b[0m\n",
      "\u001b[0;32m~/.local/lib/python3.6/site-packages/javabridge/jutil.py\u001b[0m in \u001b[0;36mmethod\u001b[0;34m(self, *args)\u001b[0m\n\u001b[1;32m    954\u001b[0m     \u001b[0;32mdef\u001b[0m \u001b[0mmethod\u001b[0m\u001b[0;34m(\u001b[0m\u001b[0mself\u001b[0m\u001b[0;34m,\u001b[0m \u001b[0;34m*\u001b[0m\u001b[0margs\u001b[0m\u001b[0;34m)\u001b[0m\u001b[0;34m:\u001b[0m\u001b[0;34m\u001b[0m\u001b[0m\n\u001b[1;32m    955\u001b[0m         \u001b[0;32massert\u001b[0m \u001b[0misinstance\u001b[0m\u001b[0;34m(\u001b[0m\u001b[0mself\u001b[0m\u001b[0;34m.\u001b[0m\u001b[0mo\u001b[0m\u001b[0;34m,\u001b[0m \u001b[0m_javabridge\u001b[0m\u001b[0;34m.\u001b[0m\u001b[0mJB_Object\u001b[0m\u001b[0;34m)\u001b[0m\u001b[0;34m\u001b[0m\u001b[0m\n\u001b[0;32m--> 956\u001b[0;31m         \u001b[0mresult\u001b[0m \u001b[0;34m=\u001b[0m \u001b[0mcall\u001b[0m\u001b[0;34m(\u001b[0m\u001b[0mself\u001b[0m\u001b[0;34m.\u001b[0m\u001b[0mo\u001b[0m\u001b[0;34m,\u001b[0m \u001b[0mname\u001b[0m\u001b[0;34m,\u001b[0m \u001b[0msig\u001b[0m\u001b[0;34m,\u001b[0m \u001b[0;34m*\u001b[0m\u001b[0margs\u001b[0m\u001b[0;34m)\u001b[0m\u001b[0;34m\u001b[0m\u001b[0m\n\u001b[0m\u001b[1;32m    957\u001b[0m         \u001b[0;32mif\u001b[0m \u001b[0mfn_post_process\u001b[0m \u001b[0;32mis\u001b[0m \u001b[0;32mnot\u001b[0m \u001b[0;32mNone\u001b[0m\u001b[0;34m:\u001b[0m\u001b[0;34m\u001b[0m\u001b[0m\n\u001b[1;32m    958\u001b[0m             \u001b[0mresult\u001b[0m \u001b[0;34m=\u001b[0m \u001b[0mfn_post_process\u001b[0m\u001b[0;34m(\u001b[0m\u001b[0mresult\u001b[0m\u001b[0;34m)\u001b[0m\u001b[0;34m\u001b[0m\u001b[0m\n",
      "\u001b[0;32m~/.local/lib/python3.6/site-packages/javabridge/jutil.py\u001b[0m in \u001b[0;36mcall\u001b[0;34m(o, method_name, sig, *args)\u001b[0m\n\u001b[1;32m    885\u001b[0m     \u001b[0mret_sig\u001b[0m \u001b[0;34m=\u001b[0m \u001b[0msig\u001b[0m\u001b[0;34m[\u001b[0m\u001b[0msig\u001b[0m\u001b[0;34m.\u001b[0m\u001b[0mfind\u001b[0m\u001b[0;34m(\u001b[0m\u001b[0;34m')'\u001b[0m\u001b[0;34m)\u001b[0m\u001b[0;34m+\u001b[0m\u001b[0;36m1\u001b[0m\u001b[0;34m:\u001b[0m\u001b[0;34m]\u001b[0m\u001b[0;34m\u001b[0m\u001b[0m\n\u001b[1;32m    886\u001b[0m     \u001b[0mnice_args\u001b[0m \u001b[0;34m=\u001b[0m \u001b[0mget_nice_args\u001b[0m\u001b[0;34m(\u001b[0m\u001b[0margs\u001b[0m\u001b[0;34m,\u001b[0m \u001b[0margs_sig\u001b[0m\u001b[0;34m)\u001b[0m\u001b[0;34m\u001b[0m\u001b[0m\n\u001b[0;32m--> 887\u001b[0;31m     \u001b[0mresult\u001b[0m \u001b[0;34m=\u001b[0m \u001b[0mfn\u001b[0m\u001b[0;34m(\u001b[0m\u001b[0;34m*\u001b[0m\u001b[0mnice_args\u001b[0m\u001b[0;34m)\u001b[0m\u001b[0;34m\u001b[0m\u001b[0m\n\u001b[0m\u001b[1;32m    888\u001b[0m     \u001b[0mx\u001b[0m \u001b[0;34m=\u001b[0m \u001b[0menv\u001b[0m\u001b[0;34m.\u001b[0m\u001b[0mexception_occurred\u001b[0m\u001b[0;34m(\u001b[0m\u001b[0;34m)\u001b[0m\u001b[0;34m\u001b[0m\u001b[0m\n\u001b[1;32m    889\u001b[0m     \u001b[0;32mif\u001b[0m \u001b[0mx\u001b[0m \u001b[0;32mis\u001b[0m \u001b[0;32mnot\u001b[0m \u001b[0;32mNone\u001b[0m\u001b[0;34m:\u001b[0m\u001b[0;34m\u001b[0m\u001b[0m\n",
      "\u001b[0;32m~/.local/lib/python3.6/site-packages/javabridge/jutil.py\u001b[0m in \u001b[0;36mfn\u001b[0;34m(*args)\u001b[0m\n\u001b[1;32m    852\u001b[0m             \u001b[0mx\u001b[0m \u001b[0;34m=\u001b[0m \u001b[0menv\u001b[0m\u001b[0;34m.\u001b[0m\u001b[0mexception_occurred\u001b[0m\u001b[0;34m(\u001b[0m\u001b[0;34m)\u001b[0m\u001b[0;34m\u001b[0m\u001b[0m\n\u001b[1;32m    853\u001b[0m             \u001b[0;32mif\u001b[0m \u001b[0mx\u001b[0m \u001b[0;32mis\u001b[0m \u001b[0;32mnot\u001b[0m \u001b[0;32mNone\u001b[0m\u001b[0;34m:\u001b[0m\u001b[0;34m\u001b[0m\u001b[0m\n\u001b[0;32m--> 854\u001b[0;31m                 \u001b[0;32mraise\u001b[0m \u001b[0mJavaException\u001b[0m\u001b[0;34m(\u001b[0m\u001b[0mx\u001b[0m\u001b[0;34m)\u001b[0m\u001b[0;34m\u001b[0m\u001b[0m\n\u001b[0m\u001b[1;32m    855\u001b[0m             \u001b[0;32mreturn\u001b[0m \u001b[0mresult\u001b[0m\u001b[0;34m\u001b[0m\u001b[0m\n\u001b[1;32m    856\u001b[0m     \u001b[0;32melse\u001b[0m\u001b[0;34m:\u001b[0m\u001b[0;34m\u001b[0m\u001b[0m\n",
      "\u001b[0;31mJavaException\u001b[0m: Invalid T index: 1/1"
     ]
    }
   ],
   "source": [
    "Image.fromarray(np.array(image.read(z=0, rescale=False, XYWH=(2000, 4000, patch_size, patch_size))))"
   ]
  },
  {
   "cell_type": "code",
   "execution_count": 30,
   "metadata": {},
   "outputs": [
    {
     "data": {
      "text/plain": [
       "<Java object at 0x-7def8eb8>"
      ]
     },
     "execution_count": 30,
     "metadata": {},
     "output_type": "execute_result"
    }
   ],
   "source": [
    "image."
   ]
  },
  {
   "cell_type": "code",
   "execution_count": 13,
   "metadata": {},
   "outputs": [
    {
     "ename": "JavaException",
     "evalue": "Invalid tile size: x=16000, y=2000, w=1000, h=1000",
     "output_type": "error",
     "traceback": [
      "\u001b[0;31m---------------------------------------------------------------------------\u001b[0m",
      "\u001b[0;31mJavaException\u001b[0m                             Traceback (most recent call last)",
      "\u001b[0;32m<ipython-input-13-cac1ec8e5477>\u001b[0m in \u001b[0;36m<module>\u001b[0;34m()\u001b[0m\n\u001b[0;32m----> 1\u001b[0;31m \u001b[0mimage\u001b[0m\u001b[0;34m.\u001b[0m\u001b[0mread\u001b[0m\u001b[0;34m(\u001b[0m\u001b[0mrescale\u001b[0m\u001b[0;34m=\u001b[0m\u001b[0;32mFalse\u001b[0m\u001b[0;34m,\u001b[0m \u001b[0mXYWH\u001b[0m\u001b[0;34m=\u001b[0m\u001b[0;34m(\u001b[0m\u001b[0;36m16000\u001b[0m\u001b[0;34m,\u001b[0m \u001b[0;36m2000\u001b[0m\u001b[0;34m,\u001b[0m \u001b[0mpatch_size\u001b[0m\u001b[0;34m,\u001b[0m \u001b[0mpatch_size\u001b[0m\u001b[0;34m)\u001b[0m\u001b[0;34m)\u001b[0m\u001b[0;34m\u001b[0m\u001b[0m\n\u001b[0m",
      "\u001b[0;32m~/.local/lib/python3.6/site-packages/bioformats/formatreader.py\u001b[0m in \u001b[0;36mread\u001b[0;34m(self, c, z, t, series, index, rescale, wants_max_intensity, channel_names, XYWH)\u001b[0m\n\u001b[1;32m    833\u001b[0m         \u001b[0;32melif\u001b[0m \u001b[0mself\u001b[0m\u001b[0;34m.\u001b[0m\u001b[0mrdr\u001b[0m\u001b[0;34m.\u001b[0m\u001b[0misRGB\u001b[0m\u001b[0;34m(\u001b[0m\u001b[0;34m)\u001b[0m \u001b[0;32mand\u001b[0m \u001b[0mself\u001b[0m\u001b[0;34m.\u001b[0m\u001b[0mrdr\u001b[0m\u001b[0;34m.\u001b[0m\u001b[0misInterleaved\u001b[0m\u001b[0;34m(\u001b[0m\u001b[0;34m)\u001b[0m\u001b[0;34m:\u001b[0m\u001b[0;34m\u001b[0m\u001b[0m\n\u001b[1;32m    834\u001b[0m             \u001b[0mindex\u001b[0m \u001b[0;34m=\u001b[0m \u001b[0mself\u001b[0m\u001b[0;34m.\u001b[0m\u001b[0mrdr\u001b[0m\u001b[0;34m.\u001b[0m\u001b[0mgetIndex\u001b[0m\u001b[0;34m(\u001b[0m\u001b[0mz\u001b[0m\u001b[0;34m,\u001b[0m\u001b[0;36m0\u001b[0m\u001b[0;34m,\u001b[0m\u001b[0mt\u001b[0m\u001b[0;34m)\u001b[0m\u001b[0;34m\u001b[0m\u001b[0m\n\u001b[0;32m--> 835\u001b[0;31m             \u001b[0mimage\u001b[0m \u001b[0;34m=\u001b[0m \u001b[0mnp\u001b[0m\u001b[0;34m.\u001b[0m\u001b[0mfrombuffer\u001b[0m\u001b[0;34m(\u001b[0m\u001b[0mopenBytes_func\u001b[0m\u001b[0;34m(\u001b[0m\u001b[0mindex\u001b[0m\u001b[0;34m)\u001b[0m\u001b[0;34m,\u001b[0m \u001b[0mdtype\u001b[0m\u001b[0;34m)\u001b[0m\u001b[0;34m\u001b[0m\u001b[0m\n\u001b[0m\u001b[1;32m    836\u001b[0m             \u001b[0mimage\u001b[0m\u001b[0;34m.\u001b[0m\u001b[0mshape\u001b[0m \u001b[0;34m=\u001b[0m \u001b[0;34m(\u001b[0m\u001b[0mheight\u001b[0m\u001b[0;34m,\u001b[0m \u001b[0mwidth\u001b[0m\u001b[0;34m,\u001b[0m \u001b[0mself\u001b[0m\u001b[0;34m.\u001b[0m\u001b[0mrdr\u001b[0m\u001b[0;34m.\u001b[0m\u001b[0mgetSizeC\u001b[0m\u001b[0;34m(\u001b[0m\u001b[0;34m)\u001b[0m\u001b[0;34m)\u001b[0m\u001b[0;34m\u001b[0m\u001b[0m\n\u001b[1;32m    837\u001b[0m             \u001b[0;32mif\u001b[0m \u001b[0mimage\u001b[0m\u001b[0;34m.\u001b[0m\u001b[0mshape\u001b[0m\u001b[0;34m[\u001b[0m\u001b[0;36m2\u001b[0m\u001b[0;34m]\u001b[0m \u001b[0;34m>\u001b[0m \u001b[0;36m3\u001b[0m\u001b[0;34m:\u001b[0m\u001b[0;34m\u001b[0m\u001b[0m\n",
      "\u001b[0;32m~/.local/lib/python3.6/site-packages/bioformats/formatreader.py\u001b[0m in \u001b[0;36m<lambda>\u001b[0;34m(x)\u001b[0m\n\u001b[1;32m    782\u001b[0m         \u001b[0;32mif\u001b[0m \u001b[0mXYWH\u001b[0m \u001b[0;32mis\u001b[0m \u001b[0;32mnot\u001b[0m \u001b[0;32mNone\u001b[0m\u001b[0;34m:\u001b[0m\u001b[0;34m\u001b[0m\u001b[0m\n\u001b[1;32m    783\u001b[0m             \u001b[0;32massert\u001b[0m \u001b[0misinstance\u001b[0m\u001b[0;34m(\u001b[0m\u001b[0mXYWH\u001b[0m\u001b[0;34m,\u001b[0m \u001b[0mtuple\u001b[0m\u001b[0;34m)\u001b[0m \u001b[0;32mand\u001b[0m \u001b[0mlen\u001b[0m\u001b[0;34m(\u001b[0m\u001b[0mXYWH\u001b[0m\u001b[0;34m)\u001b[0m \u001b[0;34m==\u001b[0m \u001b[0;36m4\u001b[0m\u001b[0;34m,\u001b[0m \u001b[0;34m\"Invalid XYWH tuple\"\u001b[0m\u001b[0;34m\u001b[0m\u001b[0m\n\u001b[0;32m--> 784\u001b[0;31m             \u001b[0mopenBytes_func\u001b[0m \u001b[0;34m=\u001b[0m \u001b[0;32mlambda\u001b[0m \u001b[0mx\u001b[0m\u001b[0;34m:\u001b[0m \u001b[0mself\u001b[0m\u001b[0;34m.\u001b[0m\u001b[0mrdr\u001b[0m\u001b[0;34m.\u001b[0m\u001b[0mopenBytesXYWH\u001b[0m\u001b[0;34m(\u001b[0m\u001b[0mx\u001b[0m\u001b[0;34m,\u001b[0m \u001b[0mXYWH\u001b[0m\u001b[0;34m[\u001b[0m\u001b[0;36m0\u001b[0m\u001b[0;34m]\u001b[0m\u001b[0;34m,\u001b[0m \u001b[0mXYWH\u001b[0m\u001b[0;34m[\u001b[0m\u001b[0;36m1\u001b[0m\u001b[0;34m]\u001b[0m\u001b[0;34m,\u001b[0m \u001b[0mXYWH\u001b[0m\u001b[0;34m[\u001b[0m\u001b[0;36m2\u001b[0m\u001b[0;34m]\u001b[0m\u001b[0;34m,\u001b[0m \u001b[0mXYWH\u001b[0m\u001b[0;34m[\u001b[0m\u001b[0;36m3\u001b[0m\u001b[0;34m]\u001b[0m\u001b[0;34m)\u001b[0m\u001b[0;34m\u001b[0m\u001b[0m\n\u001b[0m\u001b[1;32m    785\u001b[0m             \u001b[0mwidth\u001b[0m\u001b[0;34m,\u001b[0m \u001b[0mheight\u001b[0m \u001b[0;34m=\u001b[0m \u001b[0mXYWH\u001b[0m\u001b[0;34m[\u001b[0m\u001b[0;36m2\u001b[0m\u001b[0;34m]\u001b[0m\u001b[0;34m,\u001b[0m \u001b[0mXYWH\u001b[0m\u001b[0;34m[\u001b[0m\u001b[0;36m3\u001b[0m\u001b[0;34m]\u001b[0m\u001b[0;34m\u001b[0m\u001b[0m\n\u001b[1;32m    786\u001b[0m         \u001b[0;32melse\u001b[0m\u001b[0;34m:\u001b[0m\u001b[0;34m\u001b[0m\u001b[0m\n",
      "\u001b[0;32m~/.local/lib/python3.6/site-packages/javabridge/jutil.py\u001b[0m in \u001b[0;36mmethod\u001b[0;34m(self, *args)\u001b[0m\n\u001b[1;32m    954\u001b[0m     \u001b[0;32mdef\u001b[0m \u001b[0mmethod\u001b[0m\u001b[0;34m(\u001b[0m\u001b[0mself\u001b[0m\u001b[0;34m,\u001b[0m \u001b[0;34m*\u001b[0m\u001b[0margs\u001b[0m\u001b[0;34m)\u001b[0m\u001b[0;34m:\u001b[0m\u001b[0;34m\u001b[0m\u001b[0m\n\u001b[1;32m    955\u001b[0m         \u001b[0;32massert\u001b[0m \u001b[0misinstance\u001b[0m\u001b[0;34m(\u001b[0m\u001b[0mself\u001b[0m\u001b[0;34m.\u001b[0m\u001b[0mo\u001b[0m\u001b[0;34m,\u001b[0m \u001b[0m_javabridge\u001b[0m\u001b[0;34m.\u001b[0m\u001b[0mJB_Object\u001b[0m\u001b[0;34m)\u001b[0m\u001b[0;34m\u001b[0m\u001b[0m\n\u001b[0;32m--> 956\u001b[0;31m         \u001b[0mresult\u001b[0m \u001b[0;34m=\u001b[0m \u001b[0mcall\u001b[0m\u001b[0;34m(\u001b[0m\u001b[0mself\u001b[0m\u001b[0;34m.\u001b[0m\u001b[0mo\u001b[0m\u001b[0;34m,\u001b[0m \u001b[0mname\u001b[0m\u001b[0;34m,\u001b[0m \u001b[0msig\u001b[0m\u001b[0;34m,\u001b[0m \u001b[0;34m*\u001b[0m\u001b[0margs\u001b[0m\u001b[0;34m)\u001b[0m\u001b[0;34m\u001b[0m\u001b[0m\n\u001b[0m\u001b[1;32m    957\u001b[0m         \u001b[0;32mif\u001b[0m \u001b[0mfn_post_process\u001b[0m \u001b[0;32mis\u001b[0m \u001b[0;32mnot\u001b[0m \u001b[0;32mNone\u001b[0m\u001b[0;34m:\u001b[0m\u001b[0;34m\u001b[0m\u001b[0m\n\u001b[1;32m    958\u001b[0m             \u001b[0mresult\u001b[0m \u001b[0;34m=\u001b[0m \u001b[0mfn_post_process\u001b[0m\u001b[0;34m(\u001b[0m\u001b[0mresult\u001b[0m\u001b[0;34m)\u001b[0m\u001b[0;34m\u001b[0m\u001b[0m\n",
      "\u001b[0;32m~/.local/lib/python3.6/site-packages/javabridge/jutil.py\u001b[0m in \u001b[0;36mcall\u001b[0;34m(o, method_name, sig, *args)\u001b[0m\n\u001b[1;32m    885\u001b[0m     \u001b[0mret_sig\u001b[0m \u001b[0;34m=\u001b[0m \u001b[0msig\u001b[0m\u001b[0;34m[\u001b[0m\u001b[0msig\u001b[0m\u001b[0;34m.\u001b[0m\u001b[0mfind\u001b[0m\u001b[0;34m(\u001b[0m\u001b[0;34m')'\u001b[0m\u001b[0;34m)\u001b[0m\u001b[0;34m+\u001b[0m\u001b[0;36m1\u001b[0m\u001b[0;34m:\u001b[0m\u001b[0;34m]\u001b[0m\u001b[0;34m\u001b[0m\u001b[0m\n\u001b[1;32m    886\u001b[0m     \u001b[0mnice_args\u001b[0m \u001b[0;34m=\u001b[0m \u001b[0mget_nice_args\u001b[0m\u001b[0;34m(\u001b[0m\u001b[0margs\u001b[0m\u001b[0;34m,\u001b[0m \u001b[0margs_sig\u001b[0m\u001b[0;34m)\u001b[0m\u001b[0;34m\u001b[0m\u001b[0m\n\u001b[0;32m--> 887\u001b[0;31m     \u001b[0mresult\u001b[0m \u001b[0;34m=\u001b[0m \u001b[0mfn\u001b[0m\u001b[0;34m(\u001b[0m\u001b[0;34m*\u001b[0m\u001b[0mnice_args\u001b[0m\u001b[0;34m)\u001b[0m\u001b[0;34m\u001b[0m\u001b[0m\n\u001b[0m\u001b[1;32m    888\u001b[0m     \u001b[0mx\u001b[0m \u001b[0;34m=\u001b[0m \u001b[0menv\u001b[0m\u001b[0;34m.\u001b[0m\u001b[0mexception_occurred\u001b[0m\u001b[0;34m(\u001b[0m\u001b[0;34m)\u001b[0m\u001b[0;34m\u001b[0m\u001b[0m\n\u001b[1;32m    889\u001b[0m     \u001b[0;32mif\u001b[0m \u001b[0mx\u001b[0m \u001b[0;32mis\u001b[0m \u001b[0;32mnot\u001b[0m \u001b[0;32mNone\u001b[0m\u001b[0;34m:\u001b[0m\u001b[0;34m\u001b[0m\u001b[0m\n",
      "\u001b[0;32m~/.local/lib/python3.6/site-packages/javabridge/jutil.py\u001b[0m in \u001b[0;36mfn\u001b[0;34m(*args)\u001b[0m\n\u001b[1;32m    852\u001b[0m             \u001b[0mx\u001b[0m \u001b[0;34m=\u001b[0m \u001b[0menv\u001b[0m\u001b[0;34m.\u001b[0m\u001b[0mexception_occurred\u001b[0m\u001b[0;34m(\u001b[0m\u001b[0;34m)\u001b[0m\u001b[0;34m\u001b[0m\u001b[0m\n\u001b[1;32m    853\u001b[0m             \u001b[0;32mif\u001b[0m \u001b[0mx\u001b[0m \u001b[0;32mis\u001b[0m \u001b[0;32mnot\u001b[0m \u001b[0;32mNone\u001b[0m\u001b[0;34m:\u001b[0m\u001b[0;34m\u001b[0m\u001b[0m\n\u001b[0;32m--> 854\u001b[0;31m                 \u001b[0;32mraise\u001b[0m \u001b[0mJavaException\u001b[0m\u001b[0;34m(\u001b[0m\u001b[0mx\u001b[0m\u001b[0;34m)\u001b[0m\u001b[0;34m\u001b[0m\u001b[0m\n\u001b[0m\u001b[1;32m    855\u001b[0m             \u001b[0;32mreturn\u001b[0m \u001b[0mresult\u001b[0m\u001b[0;34m\u001b[0m\u001b[0m\n\u001b[1;32m    856\u001b[0m     \u001b[0;32melse\u001b[0m\u001b[0;34m:\u001b[0m\u001b[0;34m\u001b[0m\u001b[0m\n",
      "\u001b[0;31mJavaException\u001b[0m: Invalid tile size: x=16000, y=2000, w=1000, h=1000"
     ]
    }
   ],
   "source": [
    "image.read(rescale=False, XYWH=(16000, 2000, patch_size, patch_size))"
   ]
  },
  {
   "cell_type": "code",
   "execution_count": null,
   "metadata": {},
   "outputs": [],
   "source": [
    " /project/DSone/as3ek/data/ganstain/1000_SEEM_Cinn/checkpoint/unet_128_n_layers_0.0002_batch_attn_spectral_16_128_coefs_6_5_2_0.1_zif_cinn/latest.ckpt"
   ]
  }
 ],
 "metadata": {
  "kernelspec": {
   "display_name": "Python 3",
   "language": "python",
   "name": "python3"
  },
  "language_info": {
   "codemirror_mode": {
    "name": "ipython",
    "version": 3
   },
   "file_extension": ".py",
   "mimetype": "text/x-python",
   "name": "python",
   "nbconvert_exporter": "python",
   "pygments_lexer": "ipython3",
   "version": "3.6.6"
  }
 },
 "nbformat": 4,
 "nbformat_minor": 2
}
